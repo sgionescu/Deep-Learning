{
 "cells": [
  {
   "cell_type": "code",
   "execution_count": 1,
   "metadata": {
    "collapsed": false
   },
   "outputs": [
    {
     "name": "stdout",
     "output_type": "stream",
     "text": [
      "[[-0.17987387  0.37143964  0.05341962 ..., -0.23661503 -0.65657884\n",
      "   1.57103813]\n",
      " [-0.80431157  1.28894758  0.50899512 ..., -0.2467503   0.22841376\n",
      "  -0.67137414]\n",
      " [-0.57791024 -0.02765929 -0.47376612 ..., -0.66967177 -1.22303808\n",
      "   1.61542952]\n",
      " ..., \n",
      " [ 1.45552444 -0.63174647  0.27613345 ...,  1.37775767 -0.30575821\n",
      "  -0.44504911]\n",
      " [-0.35827911 -1.2378279   1.2869935  ..., -0.80932379 -1.01880753\n",
      "  -0.49794433]\n",
      " [-0.92337745  0.04995454 -1.3918854  ...,  0.36158672 -0.26831523\n",
      "   1.48247433]]\n"
     ]
    }
   ],
   "source": [
    "import tensorflow as tf\n",
    "\n",
    "W = tf.Variable(tf.truncated_normal([700, 10]))\n",
    "with tf.Session() as sess:\n",
    "    sess.run(W.initializer)\n",
    "    print W.eval()"
   ]
  },
  {
   "cell_type": "code",
   "execution_count": null,
   "metadata": {
    "collapsed": true
   },
   "outputs": [],
   "source": []
  }
 ],
 "metadata": {
  "kernelspec": {
   "display_name": "Python 2",
   "language": "python",
   "name": "python2"
  },
  "language_info": {
   "codemirror_mode": {
    "name": "ipython",
    "version": 2
   },
   "file_extension": ".py",
   "mimetype": "text/x-python",
   "name": "python",
   "nbconvert_exporter": "python",
   "pygments_lexer": "ipython2",
   "version": "2.7.13"
  }
 },
 "nbformat": 4,
 "nbformat_minor": 2
}
